{
 "cells": [
  {
   "cell_type": "code",
   "execution_count": null,
   "id": "9b2bc51f",
   "metadata": {},
   "outputs": [],
   "source": [
    "import faultier\n",
    "import serial\n",
    "import time\n",
    "\n",
    "from tqdm.notebook import trange\n",
    "ft = faultier.Faultier()\n",
    "lp = faultier.LiveMarkerPlotOld()\n",
    "\n",
    "ser = serial.Serial(ft.get_serial_path(), baudrate=115200)\n",
    "ser.timeout = 1\n",
    "ft.configure_glitcher(\n",
    "    power_cycle_output = faultier.OUT_MUX0,\n",
    "    power_cycle_length = 300000,\n",
    "    trigger_source = faultier.TRIGGER_IN_EXT0,\n",
    "    trigger_type = faultier.TRIGGER_PULSE_POSITIVE,\n",
    "    glitch_output = faultier.OUT_CROWBAR\n",
    ")\n",
    "\n",
    "ft.power_cycle()\n",
    "print(ser.read(3))\n",
    "\n",
    "success = []\n",
    "fails = []\n",
    "detected = []\n",
    "\n",
    "for d in trange(0, 100000, 100):\n",
    "    for p in range(0, 700, 10):\n",
    "        if ser.in_waiting:\n",
    "            ser.read(ser.in_waiting)\n",
    "        ft.glitch(delay=d, pulse=p)\n",
    "        data = ser.read(3)\n",
    "        # print(data)\n",
    "        try:\n",
    "            if b\"Q\" in data:\n",
    "                print(f\"Successful glitch - Delay: {d} Pulse: {p}\")\n",
    "                success.append([d, p])\n",
    "                lp.update([success, detected])\n",
    "            elif b\"G\" in data:\n",
    "                print(f\"Glitch detector triggered - Delay: {d} Pulse: {p}\")\n",
    "                detected.append([d, p])\n",
    "                lp.update([success, detected])\n",
    "                # time.sleep(5)\n",
    "            else:\n",
    "                fails.append([d, p])\n",
    "        except:\n",
    "            fails.append([d, p])"
   ]
  }
 ],
 "metadata": {
  "kernelspec": {
   "display_name": "Python 3 (ipykernel)",
   "language": "python",
   "name": "python3"
  },
  "language_info": {
   "codemirror_mode": {
    "name": "ipython",
    "version": 3
   },
   "file_extension": ".py",
   "mimetype": "text/x-python",
   "name": "python",
   "nbconvert_exporter": "python",
   "pygments_lexer": "ipython3",
   "version": "3.11.1"
  }
 },
 "nbformat": 4,
 "nbformat_minor": 5
}
